{
  "nbformat": 4,
  "nbformat_minor": 0,
  "metadata": {
    "colab": {
      "private_outputs": true,
      "provenance": [],
      "collapsed_sections": [
        "w6K7xa23Elo4"
      ],
      "include_colab_link": true
    },
    "kernelspec": {
      "name": "python3",
      "display_name": "Python 3"
    },
    "language_info": {
      "name": "python"
    }
  },
  "cells": [
    {
      "cell_type": "markdown",
      "metadata": {
        "id": "view-in-github",
        "colab_type": "text"
      },
      "source": [
        "<a href=\"https://colab.research.google.com/github/bhushanpatil16/Prime_india_diabetese_database_Descriptive_statistics_project/blob/main/Bhushan_patil__EDA_playstoredataset_project.ipynb\" target=\"_parent\"><img src=\"https://colab.research.google.com/assets/colab-badge.svg\" alt=\"Open In Colab\"/></a>"
      ]
    },
    {
      "cell_type": "markdown",
      "source": [
        "# **Project Name**    -**Playstore App Review Analysis**\n",
        "\n"
      ],
      "metadata": {
        "id": "vncDsAP0Gaoa"
      }
    },
    {
      "cell_type": "markdown",
      "source": [
        "##### **Project Type**    - EDA\n",
        "##### **Contribution**    - Individual\n",
        "##### **Team Member 1** - Bhushan s patil"
      ],
      "metadata": {
        "id": "beRrZCGUAJYm"
      }
    },
    {
      "cell_type": "markdown",
      "source": [
        "# **Project Summary -**\n"
      ],
      "metadata": {
        "id": "FJNUwmbgGyua"
      }
    },
    {
      "cell_type": "markdown",
      "source": [
        "In this project we are going to perform Exploratory Data Analysis on Playstore App dataset\n",
        "\n",
        "The dataset consists of 2 tables. The first table called ‘googleplaystore.csv’ consists of 13 columns ( app, category, rating, reviews, size, installs, type, price, content rating, genres).\n",
        "\n",
        "And the second table called ‘googleplaystore_user_reviews.csv’ consists of 5 columns (app, translated review, sentiment, sentiment polarity, sentiment subjectivity).\n",
        "\n",
        "Steps involved in this are as follows:\n",
        "- import the data\n",
        "- check the data\n",
        "- cleaning the data\n",
        "- analyzing the data\n",
        "- visualizing the data\n",
        "- conclusion"
      ],
      "metadata": {
        "id": "F6v_1wHtG2nS"
      }
    },
    {
      "cell_type": "markdown",
      "source": [
        "# **GitHub Link -**"
      ],
      "metadata": {
        "id": "w6K7xa23Elo4"
      }
    },
    {
      "cell_type": "markdown",
      "source": [
        "Provide your GitHub Link here."
      ],
      "metadata": {
        "id": "h1o69JH3Eqqn"
      }
    },
    {
      "cell_type": "markdown",
      "source": [
        "# **Problem Statement**\n"
      ],
      "metadata": {
        "id": "yQaldy8SH6Dl"
      }
    },
    {
      "cell_type": "markdown",
      "source": [
        "The Play Store apps data has enormous potential to drive app-making businesses to success. Actionable insights can be drawn for developers to work on and capture the Android market. Each app (row) has values for catergory, rating, size, and more.Another dataset contains customer reviews of the android apps. Explore and analyze the data to discover key factors responsible for app engagement and success."
      ],
      "metadata": {
        "id": "DpeJGUA3kjGy"
      }
    },
    {
      "cell_type": "markdown",
      "source": [
        "## **Business Objective**"
      ],
      "metadata": {
        "id": "PH-0ReGfmX4f"
      }
    },
    {
      "cell_type": "markdown",
      "source": [
        "-Android is being adopted by a large population across the globe. Android is used in over 74% of the world market, so it's worth creating or developing apps for this mobile operating system.\n",
        "\n",
        "-It's also worth investing in apps if you expect them to gain wider traction in the future. To make sure apps are tailored to the needs of users the analysis of data from the Google Play Store apps is extremely valuable.\n",
        "\n",
        "-It can help developers design apps that are tailored to what users want and investors with decisions about how best to invest in future.\n",
        "\n",
        "Let's start the working on Data."
      ],
      "metadata": {
        "id": "PhDvGCAqmjP1"
      }
    },
    {
      "cell_type": "code",
      "source": [
        "from google.colab import drive\n",
        "drive.mount('/content/drive')"
      ],
      "metadata": {
        "id": "h3xLH5tkZ4S3"
      },
      "execution_count": null,
      "outputs": []
    },
    {
      "cell_type": "markdown",
      "source": [
        "### **Let us start by importing some of the required libraries with which we will be working on.**"
      ],
      "metadata": {
        "id": "Y3lxredqlCYt"
      }
    },
    {
      "cell_type": "code",
      "source": [
        "# Import Libraries\n",
        "import numpy as np       \n",
        "import pandas as pd\n",
        "import matplotlib.pyplot as plt \n",
        "import seaborn as sns"
      ],
      "metadata": {
        "id": "M8Vqi-pPk-HR"
      },
      "execution_count": null,
      "outputs": []
    },
    {
      "cell_type": "markdown",
      "source": [
        "### Dataset Loading"
      ],
      "metadata": {
        "id": "3RnN4peoiCZX"
      }
    },
    {
      "cell_type": "code",
      "source": [
        "# Load Dataset\n",
        "df1= pd.read_csv(\"/content/Play Store Data.csv\")      #as it is a csv file will use pd.read_cvs() to read the data\n",
        "df2= pd.read_csv(\"/content/User Reviews.csv\")"
      ],
      "metadata": {
        "id": "4CkvbW_SlZ_R"
      },
      "execution_count": null,
      "outputs": []
    },
    {
      "cell_type": "code",
      "source": [
        "#As both dataset have app column same will merge both datasets using that colunm using outer join \n",
        "df3 = pd.merge(df1,df2,how='outer',on='App') \n"
      ],
      "metadata": {
        "id": "llb3NF-KiwlZ"
      },
      "execution_count": null,
      "outputs": []
    },
    {
      "cell_type": "markdown",
      "source": [
        "### Dataset First View\n",
        "After loading the dataset, we can start the exploration but before that, we need to check and see that the dataset is ready for performing several exploration operations or not, so let’s first have a look at the structure and the manner in which the data is organized."
      ],
      "metadata": {
        "id": "x71ZqKXriCWQ"
      }
    },
    {
      "cell_type": "code",
      "source": [
        "# Dataset First Look\n",
        "df3.head()   #Shows top 5 row in dataset"
      ],
      "metadata": {
        "id": "LWNFOSvLl09H"
      },
      "execution_count": null,
      "outputs": []
    },
    {
      "cell_type": "code",
      "source": [
        "df3.tail() #Shows bottom 5 row in dataset"
      ],
      "metadata": {
        "id": "7c7EfxFcj7iv"
      },
      "execution_count": null,
      "outputs": []
    },
    {
      "cell_type": "markdown",
      "source": [
        "### Dataset Rows & Columns count"
      ],
      "metadata": {
        "id": "7hBIi_osiCS2"
      }
    },
    {
      "cell_type": "code",
      "source": [
        "# Dataset Rows & Columns count\n",
        "df3.shape # .shape function returns the shape of the data set"
      ],
      "metadata": {
        "id": "Kllu7SJgmLij"
      },
      "execution_count": null,
      "outputs": []
    },
    {
      "cell_type": "markdown",
      "source": [
        "### Dataset Information"
      ],
      "metadata": {
        "id": "JlHwYmJAmNHm"
      }
    },
    {
      "cell_type": "code",
      "source": [
        "# Dataset Info\n",
        "df3.info()    #using info function to see the detail info regarding values and data type "
      ],
      "metadata": {
        "id": "e9hRXRi6meOf"
      },
      "execution_count": null,
      "outputs": []
    },
    {
      "cell_type": "markdown",
      "source": [
        "#### Duplicate Values"
      ],
      "metadata": {
        "id": "35m5QtbWiB9F"
      }
    },
    {
      "cell_type": "code",
      "source": [
        "# Dataset Duplicate Value Count\n",
        "df3.duplicated().value_counts()"
      ],
      "metadata": {
        "id": "1sLdpKYkmox0"
      },
      "execution_count": null,
      "outputs": []
    },
    {
      "cell_type": "markdown",
      "source": [
        "#### Missing Values/Null Values"
      ],
      "metadata": {
        "id": "PoPl-ycgm1ru"
      }
    },
    {
      "cell_type": "code",
      "source": [
        "# Missing Values/Null Values Count\n",
        "df3.isnull().sum()    # will give the cout of total null values "
      ],
      "metadata": {
        "id": "GgHWkxvamxVg"
      },
      "execution_count": null,
      "outputs": []
    },
    {
      "cell_type": "markdown",
      "source": [
        "## **Data cleaning**\n",
        "Data Preparation and Cleaning\n",
        "Data preparation is the process of cleaning and transforming raw data prior to processing and analysis. It is an important step prior to processing and often involves reformatting data, making corrections to data, and the combining of data sets to enrich data. Data cleansing or data cleaning is the process of detecting and correcting (or removing) corrupt or inaccurate records from a recordset, table, or database and refers to identifying incomplete, incorrect, inaccurate, or irrelevant parts of the data and then replacing, modifying, or deleting the dirty or coarse data."
      ],
      "metadata": {
        "id": "mBFZDWzfEUGn"
      }
    },
    {
      "cell_type": "code",
      "source": [
        "# Visualizing the missing values\n",
        "#importing reqired library to  see relation between missing values \n",
        "import missingno as msno \n",
        "msno.bar(df3) #ploting bar plot using missingno library"
      ],
      "metadata": {
        "id": "3q5wnI3om9sJ"
      },
      "execution_count": null,
      "outputs": []
    },
    {
      "cell_type": "code",
      "source": [
        "#Droping column as it has more amout of null values more then 50%\n",
        "df4=df3.drop(['Translated_Review', 'Sentiment', 'Sentiment_Polarity','Sentiment_Subjectivity'], axis=1)\n",
        "df4\n",
        "df4.shape\n"
      ],
      "metadata": {
        "id": "nJHC0g0Hverg"
      },
      "execution_count": null,
      "outputs": []
    },
    {
      "cell_type": "markdown",
      "source": [
        "###***Understanding Variables***\n",
        "\n",
        "\n"
      ],
      "metadata": {
        "id": "nA9Y7ga8ng1Z"
      }
    },
    {
      "cell_type": "code",
      "source": [
        "# Dataset Columns\n",
        "df4.columns #shows the column in data set"
      ],
      "metadata": {
        "id": "j7xfkqrt5Ag5"
      },
      "execution_count": null,
      "outputs": []
    },
    {
      "cell_type": "code",
      "source": [
        "# Dataset Describe\n",
        "df4.describe()    #using describe function"
      ],
      "metadata": {
        "id": "DnOaZdaE5Q5t"
      },
      "execution_count": null,
      "outputs": []
    },
    {
      "cell_type": "code",
      "source": [
        "df4.index[df3[\"Category\"]==\"1.9\"]     #finding the index\n",
        "df4.drop([10472] , axis = 0 ,inplace = True) #removing this value because it is coming everywhere and also it is useless"
      ],
      "metadata": {
        "id": "YATT9HxwOv5C"
      },
      "execution_count": null,
      "outputs": []
    },
    {
      "cell_type": "markdown",
      "source": [
        "**Columns which require conversion:**\n",
        "\n",
        "1) Reviews should be numeric(integer) instead of object\n",
        "\n",
        "2) Installs should not have \"+\" and \",\" signs and must be integer\n",
        "\n",
        "3) Price should also be converted from object dtype to float and remove '$' sign\n",
        "\n",
        "4) Last_Updated should be a date instead of Object"
      ],
      "metadata": {
        "id": "7LE8ywbWGrrA"
      }
    },
    {
      "cell_type": "code",
      "source": [
        "#Lets see install column as it is of object data type lets first it convert to int or float\n",
        "df4['Installs'] = df4.Installs.str.replace(\",\",\"\")  #using replace function to replace the character in column\n",
        "df4['Installs'] = df4.Installs.str.replace(\"+\",\"\")\n",
        "df4['Installs'] = df4.Installs.replace(\"Free\",np.nan)\n",
        "df4['Installs'] = df4['Installs'].astype(float)\n",
        "df4['Installs'].dtype"
      ],
      "metadata": {
        "id": "gwRM9A5QAHuJ"
      },
      "execution_count": null,
      "outputs": []
    },
    {
      "cell_type": "code",
      "source": [
        "# converting price value from object to float so it can be easy to analys\n",
        "df4['Price'] = df4.Price.replace(\"Everyone\",np.nan)     #using replace function to replace the character in column\n",
        "df4['Price'] =  df4.Price.str.replace(\"$\",\"\").astype(float)\n",
        "df4['Price'].dtype    #shows dtype of column\n"
      ],
      "metadata": {
        "id": "ikgGsGKnQSIZ"
      },
      "execution_count": null,
      "outputs": []
    },
    {
      "cell_type": "code",
      "source": [
        "# converting size column from object to int \n",
        "df4['Size'] = df4.Size.replace(\"Varies with device\",np.nan)  #using replace function to replace the character in column\n",
        "df4['Size'] = df4.Size.str.replace(\"M\",\"000\") # All size values became the kilobyte type.\n",
        "df4['Size'] = df4.Size.str.replace(\"k\",\"\")\n",
        "df4['Size'] = df4.Size.replace(\"1,000+\",1000)\n",
        "df4['Size'] = df4['Size'].astype(float)\n",
        "df4['Size'].dtype   #shows dtype of column"
      ],
      "metadata": {
        "id": "dC8HX-SaUZ8k"
      },
      "execution_count": null,
      "outputs": []
    },
    {
      "cell_type": "code",
      "source": [
        "#converting Reviews value from object to float so it can be easy to analys\n",
        "df4['Reviews'] = df4.Reviews.replace(\"0.0\",0)\n",
        "df4['Reviews'] = df4.Reviews.replace(\"3.0M\",3000000.0)\n",
        "df4['Reviews'] = df4['Reviews'].astype(float)\n",
        "df4['Reviews'].dtype  #shows dtype of column"
      ],
      "metadata": {
        "id": "kA220DHBWbcl"
      },
      "execution_count": null,
      "outputs": []
    },
    {
      "cell_type": "code",
      "source": [
        "df4.info()  #info function shows information regarding dataset"
      ],
      "metadata": {
        "id": "cwPkWuQ_EJZt"
      },
      "execution_count": null,
      "outputs": []
    },
    {
      "cell_type": "code",
      "source": [
        "df4.describe()  #using describe function to see detail discribtion of data"
      ],
      "metadata": {
        "id": "XalQYdKs6Hvj"
      },
      "execution_count": null,
      "outputs": []
    },
    {
      "cell_type": "markdown",
      "source": [
        "### Variables Description "
      ],
      "metadata": {
        "id": "PBTbrJXOngz2"
      }
    },
    {
      "cell_type": "markdown",
      "source": [
        "Let us first define what information the columns contain based on our inspection. play_store dataframe has 134710 rows and 17 columns. The 13 columns are identified as below:\n",
        "\n",
        "App - It tells us about the name of the application with a short description (optional).\n",
        "\n",
        "Category - It gives the category to the app.\n",
        "\n",
        "Rating - It contains the average rating the respective app received from its users.\n",
        "\n",
        "Reviews - It tells us about the total number of users who have given a review for the application.\n",
        "\n",
        "Size - It tells us about the size being occupied the application on the mobile phone.\n",
        "\n",
        "Installs - It tells us about the total number of installs/downloads for an application.\n",
        "\n",
        "Type - IIt states whether an app is free to use or paid.\n",
        "\n",
        "Price - It gives the price payable to install the app. For free type apps, the price is zero.\n",
        "\n",
        "Content Rating - It states whether or not an app is suitable for all age groups or not.\n",
        "\n",
        "Genres - It tells us about the various other categories to which an application can belong.\n",
        "\n",
        "Last Updated - It tells us about the when the application was updated.\n",
        "\n",
        "Current Ver - It tells us about the current version of the application.\n",
        "\n",
        "Android Ver - It tells us about the android version which can support the application on its platform.\n"
      ],
      "metadata": {
        "id": "aJV4KIxSnxay"
      }
    },
    {
      "cell_type": "code",
      "source": [
        "# Check Unique Values for object type variable.\n",
        "for col in df4.select_dtypes(include='object').columns:     #using for loop\n",
        "    print(col)\n",
        "    print(df4[col].unique())"
      ],
      "metadata": {
        "id": "zms12Yq5n-jE"
      },
      "execution_count": null,
      "outputs": []
    },
    {
      "cell_type": "code",
      "source": [
        "# Check Unique Values for numeric variable.\n",
        "for col in df4.select_dtypes(include='float').columns:  #using for loop\n",
        "    print(col)\n",
        "    print(df3[col].unique())"
      ],
      "metadata": {
        "id": "T2Ildu2Ae6aJ"
      },
      "execution_count": null,
      "outputs": []
    },
    {
      "cell_type": "markdown",
      "source": [
        "##**Handling missing values**\n",
        "\n",
        "Before doing the analysis we need to fill all the missing values in a data set so for filling the missing values we need to see the distribution of data so we can decide if we need to fill using mean, median, or mode for numeric data we use mean or median and for catagorical data we use mode \n",
        "\n",
        "if the data is skwed we use median for numerical data and mean if the data is normally distributed\n",
        "\n",
        "lets check"
      ],
      "metadata": {
        "id": "dauF4eBmngu3"
      }
    },
    {
      "cell_type": "markdown",
      "source": [
        "##**Univariate analysis**\n",
        "Univariate analysis is the simplest form of analyzing data. Uni means one, so in other words the data has only one variable. Univariate data requires to analyze each variable separately"
      ],
      "metadata": {
        "id": "sa6PcO-IKexE"
      }
    },
    {
      "cell_type": "markdown",
      "source": [
        "### **checking distribution of  numerical data**\n",
        "\n"
      ],
      "metadata": {
        "id": "bKJF3rekwFvQ"
      }
    },
    {
      "cell_type": "code",
      "source": [
        "# list of numerical variables\n",
        "numerical_features = [feature for feature in df4.columns if ((df4[feature].dtypes != 'O') & (feature not in ['y']))]\n",
        "print('Number of numerical variables: ', len(numerical_features))\n",
        "\n",
        "# visualise the numerical variables\n",
        "df4[numerical_features].head()"
      ],
      "metadata": {
        "id": "R2wCEYzJ0HY9"
      },
      "execution_count": null,
      "outputs": []
    },
    {
      "cell_type": "code",
      "source": [
        "#plot a univariate distribution of continues observations\n",
        "plt.figure(figsize=(20,60), facecolor='white')     \n",
        "plotnumber =1\n",
        "for i in numerical_features:         #using for loop to plot the grap\n",
        "    ax = plt.subplot(12,3,plotnumber)\n",
        "    sns.distplot(df4[i])          #ploting distribution plot to see the distribution \n",
        "    plt.xlabel(i)\n",
        "    plotnumber+=1\n",
        "plt.show()"
      ],
      "metadata": {
        "id": "RPZW5_BR0TXb"
      },
      "execution_count": null,
      "outputs": []
    },
    {
      "cell_type": "code",
      "source": [
        "#using box plot to see the distribution of data \n",
        "plt.figure(figsize=(20,20))    #setting fig size \n",
        "plt.subplot(3,3,1)                 \n",
        "sns.boxplot(x='Rating',data=df4)   #ploting box plot using seaborn\n",
        "plt.title(\"plot no 1\")\n",
        "plt.subplot(3,3,2)\n",
        "sns.boxplot(x='Reviews',data=df4)\n",
        "plt.title(\"plot no 2\")\n",
        "plt.subplot(3,3,3)\n",
        "sns.boxplot(x='Size',data=df4)\n",
        "plt.title(\"plot no 3\")\n",
        "plt.subplot(3,3,4)\n",
        "sns.boxplot(x='Installs',data=df4)\n",
        "plt.title(\"plot no 4\")\n",
        "plt.subplot(3,4,5)\n",
        "sns.boxplot(x='Price',data=df4)\n",
        "plt.title(\"plot no 5\")\n"
      ],
      "metadata": {
        "id": "1joJbczlmuJQ"
      },
      "execution_count": null,
      "outputs": []
    },
    {
      "cell_type": "code",
      "source": [
        "for i in numerical_features:         #using for loop\n",
        " print(i,\"skewness \",df4[i].skew())   #using skwed function to see the skwness values"
      ],
      "metadata": {
        "id": "L-GWbX0s2Th5"
      },
      "execution_count": null,
      "outputs": []
    },
    {
      "cell_type": "markdown",
      "source": [
        "as per the plot we can see that the data is skwed along with the skwness values\n",
        "of perticular column \n",
        "\n",
        "Rating skewness  =-1.133409803485152\n",
        "\n",
        "Reviews skewness = 6.758296342557415\n",
        "\n",
        "Size skewness = 0.6926809631278383\n",
        "\n",
        "Installs skewness = 4.193161004579155\n",
        "\n",
        "Price skewness = 71.71377344257624\n",
        "\n",
        "this are all moderate to highly skwed so will use median to fill the null values also there are outliers in dataset"
      ],
      "metadata": {
        "id": "AQ2hqVKdKWoG"
      }
    },
    {
      "cell_type": "code",
      "source": [
        "df4.describe(include = 'all')  #describing all data using include= all"
      ],
      "metadata": {
        "id": "INt1VByiCe3A"
      },
      "execution_count": null,
      "outputs": []
    },
    {
      "cell_type": "code",
      "source": [
        "#filling null values for numeric feature\n",
        "for i in numerical_features:                         #using for loop \n",
        "  df4[i].fillna(df4[i].median(), inplace=True)       #using fillna function to fill null values\n",
        "df4"
      ],
      "metadata": {
        "id": "rYxvJNrQFIaD"
      },
      "execution_count": null,
      "outputs": []
    },
    {
      "cell_type": "code",
      "source": [
        "#filling null values for v=catagorical data\n",
        "df4[\"Category\"].fillna(df4[\"Category\"].mode()[0], inplace=True)         #replacing null values by mode using fillna function\n",
        "df4[\"Type\"].fillna(df4[\"Type\"].mode()[0], inplace=True)\n",
        "df4[\"Content Rating\"].fillna(df4[\"Content Rating\"].mode()[0], inplace=True)\n",
        "df4[\"Genres\"].fillna(df4[\"Genres\"].mode()[0], inplace=True)\n",
        "df4[\"Last Updated\"].fillna(df4[\"Last Updated\"].mode()[0], inplace=True)\n",
        "df4[\"Current Ver\"].fillna(df4[\"Current Ver\"].mode()[0], inplace=True)\n",
        "df4[\"Android Ver\"].fillna(df4[\"Android Ver\"].mode()[0], inplace=True)\n",
        "df4\n"
      ],
      "metadata": {
        "id": "YV6PtZsMwICJ"
      },
      "execution_count": null,
      "outputs": []
    },
    {
      "cell_type": "code",
      "source": [
        "# Visualizing the missing values after data cleaning and filling null values \n",
        "\n",
        "msno.bar(df4) #ploting bar plot using missingno library"
      ],
      "metadata": {
        "id": "Ku_cPBwdhxgd"
      },
      "execution_count": null,
      "outputs": []
    },
    {
      "cell_type": "markdown",
      "source": [
        "###**Data cleaning summary**\n",
        "we have replaced few charaters from data set so we can change their data type\n",
        "droped few columns as we were not going to use them in analysis also they were having more then 50% null values \n",
        "an rest of the columns which had null values are been replaced so now we are ready for data Vizualization"
      ],
      "metadata": {
        "id": "LbyXE7I1olp8"
      }
    },
    {
      "cell_type": "markdown",
      "source": [
        "## **Data Vizualization, Storytelling & Experimenting with charts : Understand the relationships between variables**"
      ],
      "metadata": {
        "id": "GF8Ens_Soomf"
      }
    },
    {
      "cell_type": "markdown",
      "source": [
        "##**Bivariate analysis**\n",
        "Bivariate analysis refers to the analysis of two variables to determine relationships between them"
      ],
      "metadata": {
        "id": "ZIp2xA8R4Qc1"
      }
    },
    {
      "cell_type": "markdown",
      "source": [
        "#### **1.Find out app share in the playstore category wise?**"
      ],
      "metadata": {
        "id": "0wOQAZs5pc--"
      }
    },
    {
      "cell_type": "code",
      "source": [
        "# Chart - 1 visualization code\n",
        "plt.figure(figsize=(18,18))\n",
        "plt.pie(df4.Category.value_counts(), labels=df4.Category.value_counts().index, autopct='%1.2f%%')\n",
        "my_circle = plt.Circle( (0,0), 0.50, color='white')\n",
        "p=plt.gcf()\n",
        "p.gca().add_artist(my_circle)\n",
        "plt.title('% of apps share in each Category', fontsize = 25)\n",
        "plt.show()"
      ],
      "metadata": {
        "id": "7v_ESjsspbW7"
      },
      "execution_count": null,
      "outputs": []
    },
    {
      "cell_type": "markdown",
      "source": [
        "Inference:\n",
        "\n",
        "we have used pie polt as the data is categorical data also its much easy to explain share with it an it looks thats why\n",
        "\n"
      ],
      "metadata": {
        "id": "XESiWehPqBRc"
      }
    },
    {
      "cell_type": "code",
      "source": [
        "df4['Category'].value_counts()   #value cout of sub_catagory inside catagory"
      ],
      "metadata": {
        "id": "F4b_YjBspbuG"
      },
      "execution_count": null,
      "outputs": []
    },
    {
      "cell_type": "markdown",
      "source": [
        "we see that game accounts for 23.97%(32050) of all of them, while family and sports account for 8.75%(11784) and 6.80%(9154) respectively.\n",
        "that menas most of catagory people prefrerd is game,family and sports "
      ],
      "metadata": {
        "id": "C_j1G7yiqdRP"
      }
    },
    {
      "cell_type": "markdown",
      "source": [
        "#### **2.What is the average Ratings of Apps ?**"
      ],
      "metadata": {
        "id": "KSlN3yHqYklG"
      }
    },
    {
      "cell_type": "code",
      "source": [
        "# finding Average app ratings using bar plot\n",
        "df4['Rating'].value_counts().plot.bar(figsize=(20,8), color = 'k' )  #ploting bar plot\n",
        "plt.xlabel('Average rating',fontsize = 15 )             #labeling x axis\n",
        "plt.ylabel('Number of apps', fontsize = 15)              #labeling y axis\n",
        "plt.title('Average rating of apps in Playstore', fontsize = 20)  #giving title\n",
        "plt.legend();\n"
      ],
      "metadata": {
        "id": "R4YgtaqtYklH"
      },
      "execution_count": null,
      "outputs": []
    },
    {
      "cell_type": "markdown",
      "source": [
        "Inference:\n",
        "\n",
        "Above the conclusion is that most of the people have given top Ratings between 3.5 to 4.8\n",
        "\n",
        "4-5: Top rated\n",
        "\n",
        "3-4: Above average\n",
        "\n",
        "2-3: Average\n",
        "\n",
        "1-2: Below average"
      ],
      "metadata": {
        "id": "PSx9atu2YklI"
      }
    },
    {
      "cell_type": "markdown",
      "source": [
        "#### **3. which is the most favourite category in family?**"
      ],
      "metadata": {
        "id": "EM7whBJCYoAo"
      }
    },
    {
      "cell_type": "code",
      "source": [
        "# Chart - 3 visualization code\n",
        "# lets check which is the most favourite category in family\n",
        "family = df4[(df4[\"Category\"] == \"FAMILY\")]\n",
        "family_geners = family.groupby(\"Genres\")[\"Category\"].count()\n",
        "plt.rcParams['figure.figsize'] = (15, 15)    # setting up the figure size of our data so all the things gets easily visible\n",
        "sns.barplot(x=family_geners, y=family_geners.index, data=df4)  #using bar plot"
      ],
      "metadata": {
        "id": "t6GMdE67YoAp"
      },
      "execution_count": null,
      "outputs": []
    },
    {
      "cell_type": "markdown",
      "source": [
        "Inference:\n",
        "\n",
        "we are using bar polt as it is as categorical data "
      ],
      "metadata": {
        "id": "5dBItgRVYoAp"
      }
    },
    {
      "cell_type": "markdown",
      "source": [
        "the most favourite category in family is entertainment if we prefer to design an app which is realted to entertainment it is more likely to be downloaded"
      ],
      "metadata": {
        "id": "4jstXR6OYoAp"
      }
    },
    {
      "cell_type": "markdown",
      "source": [
        "#### 4. which is the most favourite category in family?"
      ],
      "metadata": {
        "id": "4Of9eVA-YrdM"
      }
    },
    {
      "cell_type": "code",
      "source": [
        "# Chart - 4 visualization code\n",
        "# lets check which is the most favourite category in family\n",
        "family = df4[(df4[\"Category\"] == \"GAME\")]\n",
        "family_geners = family.groupby(\"Genres\")[\"Category\"].count()\n",
        "plt.rcParams['figure.figsize'] = (15, 15)    # setting up the figure size of our data so all the things gets easily visible\n",
        "sns.barplot(x=family_geners, y=family_geners.index, data=df4)"
      ],
      "metadata": {
        "id": "irlUoxc8YrdO"
      },
      "execution_count": null,
      "outputs": []
    },
    {
      "cell_type": "markdown",
      "source": [
        "Inference:\n",
        "\n",
        "here we used bar polt as it is as categorical data from the plot we can see that asction games are mostly prefered by people to play after that casual and arcade games are mostly played by people so we shoud focus on this type of apps"
      ],
      "metadata": {
        "id": "Xx8WAJvtYrdO"
      }
    },
    {
      "cell_type": "markdown",
      "source": [
        "####**5. App developed are capable with which Android version?**\n"
      ],
      "metadata": {
        "id": "bamQiAODYuh1"
      }
    },
    {
      "cell_type": "code",
      "source": [
        "# Chart - 5 visualization code\n",
        "android_version = df4[\"Android Ver\"].value_counts()\n",
        "plt.rcParams['figure.figsize'] = (9, 9) \n",
        "sns.barplot(x=android_version, y=android_version.index, data=df4) #using bar plot"
      ],
      "metadata": {
        "id": "TIJwrbroYuh3"
      },
      "execution_count": null,
      "outputs": []
    },
    {
      "cell_type": "markdown",
      "source": [
        "Inference:\n",
        "\n",
        "most of the app are capable of working on android version 4.1 and above\n",
        "so this app are also capable for working on 3 to 4 years old devices"
      ],
      "metadata": {
        "id": "uyqkiB8YYuh3"
      }
    },
    {
      "cell_type": "markdown",
      "source": [
        "####**6.Which category of Apps from the ‘Content Rating’ column is found more on the play store?**"
      ],
      "metadata": {
        "id": "OH-pJp9IphqM"
      }
    },
    {
      "cell_type": "code",
      "source": [
        "df4['Content Rating'].unique()"
      ],
      "metadata": {
        "id": "i9G4OSUyf82i"
      },
      "execution_count": null,
      "outputs": []
    },
    {
      "cell_type": "code",
      "source": [
        "# Content rating of the apps\n",
        "data = df4['Content Rating'].value_counts()\n",
        "labels = ['Everyone', 'Teen', 'Everyone 10+', 'Mature 17+','Adults only 18+', 'Unrated']\n",
        "\n",
        "#create pie chart\n",
        "plt.figure(figsize=(10,10))\n",
        "explode=(0,0.1,0.1,0.1,0.0,1.3)\n",
        "colors = ['orange', 'r', 'yellow', 'g', 'm', 'k']\n",
        "plt.pie(data, labels = labels, colors = colors, autopct='%.2f%%',explode=explode,textprops={'fontsize': 15})\n",
        "plt.title('Content Rating',size=20,loc='center')\n",
        "plt.legend();"
      ],
      "metadata": {
        "id": "QtgODqp9gDs8"
      },
      "execution_count": null,
      "outputs": []
    },
    {
      "cell_type": "markdown",
      "source": [
        "Inference:"
      ],
      "metadata": {
        "id": "4N2lyPy1T5sK"
      }
    },
    {
      "cell_type": "code",
      "source": [
        "df4['Content Rating'].value_counts()"
      ],
      "metadata": {
        "id": "p9-enfo-gbSW"
      },
      "execution_count": null,
      "outputs": []
    },
    {
      "cell_type": "markdown",
      "source": [
        "Most of the applications are belongs to “Everyone” which means not restricted to age and everyone can play "
      ],
      "metadata": {
        "id": "VECbqPI7phqN"
      }
    },
    {
      "cell_type": "markdown",
      "source": [
        "####**7.Distribution of apps in term of their rating, size and type.**"
      ],
      "metadata": {
        "id": "PIIx-8_IphqN"
      }
    },
    {
      "cell_type": "code",
      "source": [
        "df4['Type'].value_counts()"
      ],
      "metadata": {
        "id": "q9844LB0lPZJ"
      },
      "execution_count": null,
      "outputs": []
    },
    {
      "cell_type": "code",
      "source": [
        "a=df4.index[df4[\"Type\"]=='0']\n",
        "df4.drop([131611] , axis = 0 ,inplace = True)   #droping unwanted row\n"
      ],
      "metadata": {
        "id": "92q4MzoPnwp_"
      },
      "execution_count": null,
      "outputs": []
    },
    {
      "cell_type": "code",
      "source": [
        "plt.figure(figsize=(12, 6))\n",
        "sns.scatterplot(df4['Size'], df4['Rating'],hue=df4['Type'],s=50)   #using scatterplot to see the distribution \n"
      ],
      "metadata": {
        "id": "lqAIGUfyphqO"
      },
      "execution_count": null,
      "outputs": []
    },
    {
      "cell_type": "markdown",
      "source": [
        "Inference:\n",
        "\n",
        "here we used scattered flot as we wanted to see the distribution of data and data type was numeric "
      ],
      "metadata": {
        "id": "iv6ro40sphqO"
      }
    },
    {
      "cell_type": "markdown",
      "source": [
        "From this scatter plot, we can imply that majority of the free apps are small in size and having high rating. While for paid apps, we have quite equal distribution in term on size and rating."
      ],
      "metadata": {
        "id": "Po6ZPi4hphqO"
      }
    },
    {
      "cell_type": "markdown",
      "source": [
        "###**8.which apps are mostly installed paid or free?**"
      ],
      "metadata": {
        "id": "fnj0ypBO9rAU"
      }
    },
    {
      "cell_type": "code",
      "source": [
        "df4['Type'].value_counts() #using cout function to count values"
      ],
      "metadata": {
        "id": "2Dv8pZnj8kwg"
      },
      "execution_count": null,
      "outputs": []
    },
    {
      "cell_type": "code",
      "source": [
        "paid_or_free=df4['Type'].value_counts()\n",
        "labels=df4['Type'].value_counts().index\n",
        "\n",
        "#create pie chart \n",
        "plt.figure(figsize=(12,10))\n",
        "colors=['#A2CD5A','#FFE4C4']\n",
        "explode=(0.01,0.1)\n",
        "plt.pie(paid_or_free,labels=labels,colors=colors,autopct='%.2f%%',explode=explode,shadow=True,textprops={'fontsize': 15})\n",
        "plt.title('Free Vs Paid Apps',Size=20)\n",
        "plt.show()\n",
        "     \n"
      ],
      "metadata": {
        "id": "B4gfFMxU7xrR"
      },
      "execution_count": null,
      "outputs": []
    },
    {
      "cell_type": "markdown",
      "source": [
        "\n",
        "Inference:\n",
        "\n",
        "from the plot we can see 98.27% of app are free app and just 1.73% are paid \n",
        "\n",
        "Free :132382\n",
        "\n",
        "Paid :2326\n"
      ],
      "metadata": {
        "id": "BttFFfLB9E8Y"
      }
    },
    {
      "cell_type": "markdown",
      "source": [
        "##**Multivariate analysis**"
      ],
      "metadata": {
        "id": "DPqzh2KnrhLx"
      }
    },
    {
      "cell_type": "markdown",
      "source": [
        "###**12.Correlation between all the columns of the datasets.**"
      ],
      "metadata": {
        "id": "BZR9WyysphqO"
      }
    },
    {
      "cell_type": "code",
      "source": [
        "# first check the correlation in playSdata\n",
        "df4.corr()"
      ],
      "metadata": {
        "id": "TdPTWpAVphqO"
      },
      "execution_count": null,
      "outputs": []
    },
    {
      "cell_type": "code",
      "source": [
        "#plot a heatmap to see the correlaton between the columns\n",
        "cor_mat=df4.corr()\n",
        "fig = plt.figure(figsize=(15,7))\n",
        "sns.heatmap(cor_mat,annot=True)"
      ],
      "metadata": {
        "id": "6fG2ebRXrzFs"
      },
      "execution_count": null,
      "outputs": []
    },
    {
      "cell_type": "markdown",
      "source": [
        "Inference:\n",
        "\n",
        "as we wanted to see the correlation of numeric data we used heat map"
      ],
      "metadata": {
        "id": "Ob8u6rCTphqO"
      }
    },
    {
      "cell_type": "markdown",
      "source": [
        "Clearly, we saw that reviews and installs are more correlated and the value is 0.42. It is much more obvious that a higher number of instals has a higher number of reviews.\n",
        "\n",
        "There is a negative correlation between price and instal apps, with the price of the app influencing the number of installation of the app."
      ],
      "metadata": {
        "id": "mZtgC_hjphqO"
      }
    },
    {
      "cell_type": "markdown",
      "source": [
        "# **Conclusion**"
      ],
      "metadata": {
        "id": "gCX9965dhzqZ"
      }
    },
    {
      "cell_type": "markdown",
      "source": [
        "- In this project of analysing play store applications, we have worked on several parameters and got some actionable insights that would help any organisation to do well in the Android market.\n",
        "- we have found  that game accounts for 23.97% of all of them, while family and sports account for 8.75% and 6.80%respectively.\n",
        "that mence most of catagory people prefrerd is game,family and sports so we should focus more on this catagory \n",
        "- also in family the most favourite category  is entertainment if we prefer to design an app which is related to entertainment it is more likely to be downloaded\n",
        "- same goes to the gaming catagory in which  action games are mostly prefered by people to play\n",
        "- while designing the application we should try make it compitable with the latest androide version\n",
        "-people mostly download app which takes less storage space so app should  be smaller in size along with that it should be available for all age group so target audience will be more and hence downloads\n",
        "-from above Analysis we can say this data has many insights which are key for bussiness point of view \n",
        "\n"
      ],
      "metadata": {
        "id": "Fjb1IsQkh3yE"
      }
    }
  ]
}